{
 "cells": [
  {
   "cell_type": "code",
   "execution_count": 1,
   "id": "939f1a20-1888-4b0d-abf0-873ed74ef54a",
   "metadata": {},
   "outputs": [],
   "source": [
    "from statsmodels.stats.outliers_influence import variance_inflation_factor\n",
    "from sklearn.linear_model import LogisticRegression\n",
    "from preprocessor import Preprocessor\n",
    "from evaluator import ModelEvaluator\n",
    "import pandas as pd\n",
    "import numpy as np"
   ]
  },
  {
   "cell_type": "code",
   "execution_count": 2,
   "id": "db2746d0-3d61-41b6-b098-a3159d831c20",
   "metadata": {},
   "outputs": [
    {
     "data": {
      "text/plain": [
       "'\\nУдаляем мультиколлинерные признаки (vif > 5) и признаки с >30% пропусков\\n'"
      ]
     },
     "execution_count": 2,
     "metadata": {},
     "output_type": "execute_result"
    }
   ],
   "source": [
    "'''\n",
    "Удаляем мультиколлинерные признаки (vif > 5) и признаки с >30% пропусков\n",
    "'''"
   ]
  },
  {
   "cell_type": "code",
   "execution_count": 3,
   "id": "5fc7c9c6-5c73-4b12-860b-272f37fc8e48",
   "metadata": {},
   "outputs": [],
   "source": [
    "df_train = pd.read_csv(\"C:/Users/Роман/Chepenkov_dz2/application_train.csv\")\n",
    "df_test = pd.read_csv(\"C:/Users/Роман/Chepenkov_dz2/application_test.csv\")"
   ]
  },
  {
   "cell_type": "code",
   "execution_count": 4,
   "id": "dd91a197-34c2-464b-9dbe-f77fdf167de9",
   "metadata": {},
   "outputs": [],
   "source": [
    "def hypothesis_6(df):\n",
    "    \n",
    "    missing_threshold=0.3\n",
    "    vif_threshold=5\n",
    "    df = df.copy()\n",
    "    \n",
    "    missing_ratios = df.isnull().mean()\n",
    "    cols_to_keep = missing_ratios[missing_ratios <= missing_threshold].index.tolist()\n",
    "    df = df[cols_to_keep]\n",
    "    \n",
    "    numeric_cols = df.select_dtypes(include=[np.number]).columns\n",
    "    \n",
    "    X = df[numeric_cols].dropna()\n",
    "    \n",
    "    vif_scores = {}\n",
    "    for i, col in enumerate(numeric_cols):\n",
    "        try:\n",
    "            vif = variance_inflation_factor(X.values, i)\n",
    "            vif_scores[col] = vif\n",
    "        except:\n",
    "            vif_scores[col] = np.inf\n",
    "    \n",
    "    low_vif_cols = [col for col, vif in vif_scores.items() if vif <= vif_threshold]\n",
    "\n",
    "    non_numeric_cols = list(set(df.columns) - set(numeric_cols))\n",
    "    final_cols = low_vif_cols + non_numeric_cols\n",
    "    \n",
    "    return df[final_cols]"
   ]
  },
  {
   "cell_type": "code",
   "execution_count": 5,
   "id": "0d593db8-6369-4dc8-b167-b0facb9017c3",
   "metadata": {},
   "outputs": [],
   "source": [
    "preprocessor = Preprocessor(custom_steps=[hypothesis_6])\n",
    "\n",
    "X_train_processed = preprocessor.transform(df_train.drop(columns=['TARGET', 'SK_ID_CURR']))\n",
    "num_cols = X_train_processed.select_dtypes(include='number').columns\n",
    "X_train_processed = X_train_processed[num_cols]\n"
   ]
  },
  {
   "cell_type": "code",
   "execution_count": 11,
   "id": "73c7d49e-8b14-4e74-837e-4a655ac3ac4a",
   "metadata": {},
   "outputs": [],
   "source": [
    "test_cols = X_train_processed.columns\n",
    "X_test_processed = df_test[test_cols]\n",
    "X_test_processed = X_test_processed.fillna(X_test_processed[test_cols].median())\n"
   ]
  },
  {
   "cell_type": "code",
   "execution_count": 12,
   "id": "e557c660-681c-4a48-a759-816726e9aa04",
   "metadata": {},
   "outputs": [
    {
     "name": "stderr",
     "output_type": "stream",
     "text": [
      "C:\\Users\\Роман\\AppData\\Local\\Programs\\Python\\Python312\\Lib\\site-packages\\sklearn\\linear_model\\_logistic.py:473: ConvergenceWarning: lbfgs failed to converge after 100 iteration(s) (status=1):\n",
      "STOP: TOTAL NO. OF ITERATIONS REACHED LIMIT\n",
      "\n",
      "Increase the number of iterations to improve the convergence (max_iter=100).\n",
      "You might also want to scale the data as shown in:\n",
      "    https://scikit-learn.org/stable/modules/preprocessing.html\n",
      "Please also refer to the documentation for alternative solver options:\n",
      "    https://scikit-learn.org/stable/modules/linear_model.html#logistic-regression\n",
      "  n_iter_i = _check_optimize_result(\n"
     ]
    },
    {
     "name": "stdout",
     "output_type": "stream",
     "text": [
      "ROC-AUC train: 0.55711\n"
     ]
    }
   ],
   "source": [
    "evaluator = ModelEvaluator(LogisticRegression(max_iter=100))\n",
    "\n",
    "roc_auc = evaluator.evaluate(X_train_processed, df_train['TARGET'])\n",
    "print(f\"ROC-AUC train: {roc_auc:.5f}\")\n",
    "\n",
    "evaluator.save_test_predictions(\n",
    "    X_test=X_test_processed,\n",
    "    ids=df_test['SK_ID_CURR'],\n",
    "    filename='test_predictions_hyp_6.csv'\n",
    ")\n",
    "#ROC-AUC train: 0.55711\n",
    "\n",
    "#ROC-AUC test: 0.56760\n",
    "#ROC-AUC test baseline: 0.61204\n",
    "#ROC-AUC test surplus: -0.04444\n"
   ]
  },
  {
   "cell_type": "code",
   "execution_count": null,
   "id": "99d2a96a-7432-43d8-82de-d1827c9ec751",
   "metadata": {},
   "outputs": [],
   "source": []
  }
 ],
 "metadata": {
  "kernelspec": {
   "display_name": "Python 3 (ipykernel)",
   "language": "python",
   "name": "python3"
  },
  "language_info": {
   "codemirror_mode": {
    "name": "ipython",
    "version": 3
   },
   "file_extension": ".py",
   "mimetype": "text/x-python",
   "name": "python",
   "nbconvert_exporter": "python",
   "pygments_lexer": "ipython3",
   "version": "3.12.6"
  }
 },
 "nbformat": 4,
 "nbformat_minor": 5
}
