{
 "cells": [
  {
   "cell_type": "code",
   "execution_count": 1,
   "id": "1a085a5b-9f77-4a0b-9b9f-8fbe1daba743",
   "metadata": {},
   "outputs": [],
   "source": [
    "from sklearn.linear_model import LogisticRegression\n",
    "from sklearn.preprocessing import StandardScaler\n",
    "from preprocessor import Preprocessor\n",
    "from evaluator import ModelEvaluator\n",
    "import pandas as pd\n",
    "import numpy as np"
   ]
  },
  {
   "cell_type": "code",
   "execution_count": 2,
   "id": "2840bd63-e669-463c-b210-57bd46e6fb05",
   "metadata": {},
   "outputs": [
    {
     "data": {
      "text/plain": [
       "'\\nНормализуем числовые данные через standard scaler\\n'"
      ]
     },
     "execution_count": 2,
     "metadata": {},
     "output_type": "execute_result"
    }
   ],
   "source": [
    "'''\n",
    "Нормализуем числовые данные через standard scaler\n",
    "'''"
   ]
  },
  {
   "cell_type": "code",
   "execution_count": 3,
   "id": "d91f7fba-1558-476d-b0ca-94e8813f2de6",
   "metadata": {},
   "outputs": [],
   "source": [
    "df_train = pd.read_csv(\"C:/Users/Роман/Chepenkov_dz2/application_train.csv\")\n",
    "df_test = pd.read_csv(\"C:/Users/Роман/Chepenkov_dz2/application_test.csv\")"
   ]
  },
  {
   "cell_type": "code",
   "execution_count": 4,
   "id": "b62a4552-8257-45b4-98cc-9517d34b5afe",
   "metadata": {},
   "outputs": [],
   "source": [
    "def hypothesis_4(df):\n",
    "   \n",
    "    df = df.copy()\n",
    "    \n",
    "    num_cols = df.select_dtypes(include=['float64', 'int64']).columns\n",
    "    \n",
    "    scaler = StandardScaler()\n",
    "    df_scaled = scaler.fit_transform(df[num_cols])\n",
    "    \n",
    "    return df_scaled"
   ]
  },
  {
   "cell_type": "code",
   "execution_count": 5,
   "id": "595c9756-5e8c-4e17-8be0-e0c9abfdf63c",
   "metadata": {},
   "outputs": [],
   "source": [
    "preprocessor = Preprocessor(custom_steps=[hypothesis_4])\n",
    "\n",
    "X_train_processed = preprocessor.transform(df_train.drop(columns=['TARGET', 'SK_ID_CURR']))\n",
    "\n",
    "X_test_processed = preprocessor.transform(df_test.drop(columns=['SK_ID_CURR']))"
   ]
  },
  {
   "cell_type": "code",
   "execution_count": 6,
   "id": "bc79c447-b60c-414e-a879-03e7bfed90a9",
   "metadata": {},
   "outputs": [
    {
     "name": "stdout",
     "output_type": "stream",
     "text": [
      "ROC-AUC train: 0.73536\n"
     ]
    }
   ],
   "source": [
    "evaluator = ModelEvaluator(LogisticRegression(max_iter=100))\n",
    "\n",
    "roc_auc = evaluator.evaluate(X_train_processed, df_train['TARGET'])\n",
    "print(f\"ROC-AUC train: {roc_auc:.5f}\")\n",
    "\n",
    "evaluator.save_test_predictions(\n",
    "    X_test=X_test_processed,\n",
    "    ids=df_test['SK_ID_CURR'],\n",
    "    filename='test_predictions_hyp_4.csv'\n",
    ")\n",
    "#ROC-AUC train st scaler: 0.73536\n",
    "\n",
    "#ROC-AUC test: 0.71729\n",
    "#ROC-AUC test baseline: 0.61204\n",
    "#ROC-AUC test surplus: 0.10525"
   ]
  }
 ],
 "metadata": {
  "kernelspec": {
   "display_name": "Python 3 (ipykernel)",
   "language": "python",
   "name": "python3"
  },
  "language_info": {
   "codemirror_mode": {
    "name": "ipython",
    "version": 3
   },
   "file_extension": ".py",
   "mimetype": "text/x-python",
   "name": "python",
   "nbconvert_exporter": "python",
   "pygments_lexer": "ipython3",
   "version": "3.12.6"
  }
 },
 "nbformat": 4,
 "nbformat_minor": 5
}
