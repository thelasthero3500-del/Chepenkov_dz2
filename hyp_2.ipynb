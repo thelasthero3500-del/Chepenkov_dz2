{
 "cells": [
  {
   "cell_type": "code",
   "execution_count": 16,
   "id": "4e2b305d-efb0-40f1-96cc-251bbd4a9e35",
   "metadata": {},
   "outputs": [],
   "source": [
    "from sklearn.linear_model import LogisticRegression\n",
    "from sklearn.impute import SimpleImputer\n",
    "from preprocessor import Preprocessor\n",
    "from evaluator import ModelEvaluator\n",
    "import pandas as pd"
   ]
  },
  {
   "cell_type": "code",
   "execution_count": 2,
   "id": "da4444ba-a174-48ae-b201-aa4695b830da",
   "metadata": {},
   "outputs": [
    {
     "data": {
      "text/plain": [
       "'\\nПрименяется таргет энкодинг как способ обработки категориальных фичей, для nan использовали замещение средним\\n'"
      ]
     },
     "execution_count": 2,
     "metadata": {},
     "output_type": "execute_result"
    }
   ],
   "source": [
    "\"\"\"\n",
    "Применяется таргет энкодинг как способ обработки категориальных фичей, для nan использовали замещение средним\n",
    "\"\"\""
   ]
  },
  {
   "cell_type": "code",
   "execution_count": 3,
   "id": "776c00f6-5da3-4917-8cc1-28e4b6373646",
   "metadata": {},
   "outputs": [],
   "source": [
    "df_train = pd.read_csv(\"C:/Users/Роман/Chepenkov_dz2/application_train.csv\")\n",
    "df_test = pd.read_csv(\"C:/Users/Роман/Chepenkov_dz2/application_test.csv\")"
   ]
  },
  {
   "cell_type": "code",
   "execution_count": 9,
   "id": "a6ebe7f6-fae8-4bd6-96f9-d7109c8fddd4",
   "metadata": {},
   "outputs": [],
   "source": [
    "def hypothesis_2(df):\n",
    "    df_encoded = df.copy()\n",
    "    cat_cols = df.select_dtypes(include=['object', 'string']).columns\n",
    "    \n",
    "    train_target = df_train['TARGET']  # global\n",
    "    \n",
    "    for col in cat_cols:\n",
    "        # Используем глобальный train_target для группировки\n",
    "        encoding_map = train_target.groupby(df[col]).mean().to_dict()\n",
    "        df_encoded[col] = df[col].map(encoding_map)\n",
    "    \n",
    "    return df_encoded"
   ]
  },
  {
   "cell_type": "code",
   "execution_count": 18,
   "id": "531aaed9-8356-48fe-903f-3233d279206a",
   "metadata": {},
   "outputs": [],
   "source": [
    "preprocessor = Preprocessor(custom_steps=[hypothesis_2])\n",
    "\n",
    "X_train_processed = preprocessor.transform(df_train.drop(columns=['TARGET', 'SK_ID_CURR']))\n",
    "num_cols = X_train_processed.select_dtypes(include='number').columns\n",
    "X_train_processed = X_train_processed[num_cols]\n",
    "\n",
    "X_test_processed = preprocessor.transform(df_test.drop(columns=['SK_ID_CURR']))\n",
    "X_test_processed = X_test_processed[num_cols]\n",
    "\n",
    "imputer = SimpleImputer(strategy='mean')\n",
    "X_train_processed = imputer.fit_transform(X_train_processed)\n",
    "X_test_processed = imputer.transform(X_test_processed)"
   ]
  },
  {
   "cell_type": "code",
   "execution_count": 19,
   "id": "1fd66b29-1428-4c02-809c-4a1d2b6527ea",
   "metadata": {},
   "outputs": [
    {
     "name": "stderr",
     "output_type": "stream",
     "text": [
      "C:\\Users\\Роман\\AppData\\Local\\Programs\\Python\\Python312\\Lib\\site-packages\\sklearn\\linear_model\\_logistic.py:473: ConvergenceWarning: lbfgs failed to converge after 100 iteration(s) (status=1):\n",
      "STOP: TOTAL NO. OF ITERATIONS REACHED LIMIT\n",
      "\n",
      "Increase the number of iterations to improve the convergence (max_iter=100).\n",
      "You might also want to scale the data as shown in:\n",
      "    https://scikit-learn.org/stable/modules/preprocessing.html\n",
      "Please also refer to the documentation for alternative solver options:\n",
      "    https://scikit-learn.org/stable/modules/linear_model.html#logistic-regression\n",
      "  n_iter_i = _check_optimize_result(\n"
     ]
    },
    {
     "name": "stdout",
     "output_type": "stream",
     "text": [
      "ROC-AUC train: 0.62235\n"
     ]
    }
   ],
   "source": [
    "evaluator = ModelEvaluator(LogisticRegression(max_iter=100))\n",
    "roc_auc = evaluator.evaluate(X_train_processed, df_train['TARGET'])\n",
    "print(f\"ROC-AUC train: {roc_auc:.5f}\")\n",
    "\n",
    "evaluator.save_test_predictions(\n",
    "    X_test=X_test_processed,\n",
    "    ids=df_test['SK_ID_CURR'],\n",
    "    filename='test_predictions_hyp_2.csv'\n",
    ")\n",
    "#ROC-AUC train: 0.62235\n",
    "\n",
    "#ROC-AUC test: 0.61513\n",
    "#ROC-AUC test baseline: 0.61204\n",
    "#ROC-AUC test surplus: 0,00309"
   ]
  }
 ],
 "metadata": {
  "kernelspec": {
   "display_name": "Python 3 (ipykernel)",
   "language": "python",
   "name": "python3"
  },
  "language_info": {
   "codemirror_mode": {
    "name": "ipython",
    "version": 3
   },
   "file_extension": ".py",
   "mimetype": "text/x-python",
   "name": "python",
   "nbconvert_exporter": "python",
   "pygments_lexer": "ipython3",
   "version": "3.12.6"
  }
 },
 "nbformat": 4,
 "nbformat_minor": 5
}
