{
 "cells": [
  {
   "cell_type": "code",
   "execution_count": 1,
   "id": "fe9e7d8d-668f-4315-a5fa-e2da9c6ee05b",
   "metadata": {},
   "outputs": [],
   "source": [
    "from catboost import CatBoostClassifier\n",
    "from sklearn.metrics import roc_auc_score\n",
    "from preprocessor import Preprocessor\n",
    "from evaluator import ModelEvaluator\n",
    "import pandas as pd\n",
    "import numpy as np"
   ]
  },
  {
   "cell_type": "code",
   "execution_count": 2,
   "id": "98bb6f6e-22fc-41e5-9e03-af628fe2b078",
   "metadata": {},
   "outputs": [
    {
     "data": {
      "text/plain": [
       "'\\nИспользуем catboost как альтернативу логрегу\\n'"
      ]
     },
     "execution_count": 2,
     "metadata": {},
     "output_type": "execute_result"
    }
   ],
   "source": [
    "'''\n",
    "Используем catboost как альтернативу логрегу\n",
    "'''"
   ]
  },
  {
   "cell_type": "code",
   "execution_count": 3,
   "id": "5cc08225-5a1e-402d-8392-2cfd9a546026",
   "metadata": {},
   "outputs": [],
   "source": [
    "df_train = pd.read_csv(\"C:/Users/Роман/Chepenkov_dz2/application_train.csv\")\n",
    "df_test = pd.read_csv(\"C:/Users/Роман/Chepenkov_dz2/application_test.csv\")"
   ]
  },
  {
   "cell_type": "code",
   "execution_count": 4,
   "id": "048d3c79-6ade-4f3c-aed6-ac11c9aae63f",
   "metadata": {},
   "outputs": [],
   "source": [
    "def hypothesis_10(df):\n",
    "    return df #заглушка на всякий"
   ]
  },
  {
   "cell_type": "code",
   "execution_count": 5,
   "id": "89ab86e1-4273-4aa2-b3b9-bf817758292b",
   "metadata": {},
   "outputs": [],
   "source": [
    "preprocessor = Preprocessor(custom_steps=[hypothesis_10])\n",
    "\n",
    "X_train_processed = preprocessor.transform(df_train.drop(columns=['TARGET', 'SK_ID_CURR']))\n",
    "\n",
    "X_test_processed = preprocessor.transform(df_test.drop(columns=['SK_ID_CURR']))\n",
    "\n",
    "cat_cols = X_train_processed.select_dtypes(include=['object', 'category']).columns\n",
    "X_train_processed[cat_cols] = X_train_processed[cat_cols].fillna('MISSING')\n",
    "X_test_processed[cat_cols] = X_test_processed[cat_cols].fillna('MISSING')"
   ]
  },
  {
   "cell_type": "code",
   "execution_count": 7,
   "id": "029ac4f1-f828-4576-94f2-43b4c0522784",
   "metadata": {},
   "outputs": [
    {
     "name": "stdout",
     "output_type": "stream",
     "text": [
      "0:\ttotal: 671ms\tremaining: 1m 6s\n",
      "99:\ttotal: 1m 3s\tremaining: 0us\n",
      "ROC-AUC train: 0.75273\n"
     ]
    }
   ],
   "source": [
    "cat_features = [i for i, col in enumerate(X_train_processed.columns) \n",
    "               if X_train_processed[col].dtype == 'object']\n",
    "\n",
    "model = CatBoostClassifier(\n",
    "    iterations=100,\n",
    "    learning_rate=0.05,\n",
    "    depth=6,\n",
    "    eval_metric='AUC',\n",
    "    cat_features=cat_features,\n",
    "    random_seed=42,\n",
    "    verbose=100\n",
    ")\n",
    "\n",
    "evaluator = ModelEvaluator(model)\n",
    "\n",
    "roc_auc = evaluator.evaluate(X_train_processed, df_train['TARGET'])\n",
    "print(f\"ROC-AUC train: {roc_auc:.5f}\")\n",
    "\n",
    "evaluator.save_test_predictions(\n",
    "    X_test=X_test_processed,\n",
    "    ids=df_test['SK_ID_CURR'],\n",
    "    filename='test_predictions_hyp_10.csv')\n",
    "#ROC-AUC train: 0.75273\n",
    "\n",
    "#ROC-AUC test: 0.73410\n",
    "#ROC-AUC test baseline: 0.61204\n",
    "#ROC-AUC test surplus: 0.12206"
   ]
  },
  {
   "cell_type": "code",
   "execution_count": null,
   "id": "9c3c94c6-f9c5-4394-884e-6c5837f0c9e3",
   "metadata": {},
   "outputs": [],
   "source": []
  }
 ],
 "metadata": {
  "kernelspec": {
   "display_name": "Python 3 (ipykernel)",
   "language": "python",
   "name": "python3"
  },
  "language_info": {
   "codemirror_mode": {
    "name": "ipython",
    "version": 3
   },
   "file_extension": ".py",
   "mimetype": "text/x-python",
   "name": "python",
   "nbconvert_exporter": "python",
   "pygments_lexer": "ipython3",
   "version": "3.12.6"
  }
 },
 "nbformat": 4,
 "nbformat_minor": 5
}
