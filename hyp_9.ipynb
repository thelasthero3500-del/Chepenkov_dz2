{
 "cells": [
  {
   "cell_type": "code",
   "execution_count": 1,
   "id": "b5cb07e2-6480-48de-97d1-0d3f6e83b439",
   "metadata": {},
   "outputs": [],
   "source": [
    "from sklearn.linear_model import LogisticRegression\n",
    "from sklearn.preprocessing import QuantileTransformer\n",
    "from preprocessor import Preprocessor\n",
    "from evaluator import ModelEvaluator\n",
    "import pandas as pd\n",
    "import numpy as np"
   ]
  },
  {
   "cell_type": "code",
   "execution_count": 2,
   "id": "96f1fff9-3ab3-4986-aa6c-5bf9b46abf23",
   "metadata": {},
   "outputs": [
    {
     "data": {
      "text/plain": [
       "'\\nквантильное преобразование числовых признаков\\n'"
      ]
     },
     "execution_count": 2,
     "metadata": {},
     "output_type": "execute_result"
    }
   ],
   "source": [
    "'''\n",
    "квантильное преобразование числовых признаков\n",
    "'''"
   ]
  },
  {
   "cell_type": "code",
   "execution_count": 3,
   "id": "3f2ad698-a3f9-41f2-8e56-ab53c15e9fb7",
   "metadata": {},
   "outputs": [],
   "source": [
    "df_train = pd.read_csv(\"C:/Users/Роман/Chepenkov_dz2/application_train.csv\")\n",
    "df_test = pd.read_csv(\"C:/Users/Роман/Chepenkov_dz2/application_test.csv\")"
   ]
  },
  {
   "cell_type": "code",
   "execution_count": 9,
   "id": "da4694e0-36b3-4916-b146-32d6ac8d1769",
   "metadata": {},
   "outputs": [],
   "source": [
    "def hypothesis_9(df):\n",
    "    \n",
    "    global QT_TRANSFORMER\n",
    "    \n",
    "    numeric_cols = df.select_dtypes(include=['number']).columns.tolist()\n",
    "    \n",
    "    if not hasattr(hypothesis_9, 'fitted'):\n",
    "        QT_TRANSFORMER = QuantileTransformer(\n",
    "            output_distribution='normal',\n",
    "            random_state=42,\n",
    "            n_quantiles=min(1000, len(df)))\n",
    "        \n",
    "        df[numeric_cols] = QT_TRANSFORMER.fit_transform(df[numeric_cols])\n",
    "        hypothesis_9.fitted = True\n",
    "    else:\n",
    "        df[numeric_cols] = QT_TRANSFORMER.transform(df[numeric_cols])\n",
    "    \n",
    "    return df"
   ]
  },
  {
   "cell_type": "code",
   "execution_count": 12,
   "id": "fc0e9c4a-0abe-40da-992a-a252edc02ece",
   "metadata": {},
   "outputs": [],
   "source": [
    "preprocessor = Preprocessor(custom_steps=[hypothesis_9])\n",
    "\n",
    "X_train_processed = preprocessor.transform(df_train.drop(columns=['TARGET', 'SK_ID_CURR']))\n",
    "num_cols = X_train_processed.select_dtypes(include='number').columns\n",
    "X_train_processed = X_train_processed[num_cols]\n",
    "\n",
    "X_test_processed = preprocessor.transform(df_test.drop(columns=['SK_ID_CURR']))\n",
    "X_test_processed = X_test_processed[num_cols]"
   ]
  },
  {
   "cell_type": "code",
   "execution_count": 13,
   "id": "4959a2a2-59da-4850-a8bf-a72d9749d3f9",
   "metadata": {},
   "outputs": [
    {
     "name": "stderr",
     "output_type": "stream",
     "text": [
      "C:\\Users\\Роман\\AppData\\Local\\Programs\\Python\\Python312\\Lib\\site-packages\\sklearn\\linear_model\\_logistic.py:473: ConvergenceWarning: lbfgs failed to converge after 100 iteration(s) (status=1):\n",
      "STOP: TOTAL NO. OF ITERATIONS REACHED LIMIT\n",
      "\n",
      "Increase the number of iterations to improve the convergence (max_iter=100).\n",
      "You might also want to scale the data as shown in:\n",
      "    https://scikit-learn.org/stable/modules/preprocessing.html\n",
      "Please also refer to the documentation for alternative solver options:\n",
      "    https://scikit-learn.org/stable/modules/linear_model.html#logistic-regression\n",
      "  n_iter_i = _check_optimize_result(\n"
     ]
    },
    {
     "name": "stdout",
     "output_type": "stream",
     "text": [
      "ROC-AUC train: 0.73599\n"
     ]
    }
   ],
   "source": [
    "evaluator = ModelEvaluator(LogisticRegression(max_iter=100))\n",
    "\n",
    "roc_auc = evaluator.evaluate(X_train_processed, df_train['TARGET'])\n",
    "print(f\"ROC-AUC train: {roc_auc:.5f}\")\n",
    "\n",
    "evaluator.save_test_predictions(\n",
    "    X_test=X_test_processed,\n",
    "    ids=df_test['SK_ID_CURR'],\n",
    "    filename='test_predictions_hyp_9.csv'\n",
    ")\n",
    "#ROC-AUC train: 0.73599\n",
    "\n",
    "#ROC-AUC test: 0.71335\n",
    "#ROC-AUC test baseline: 0.61204\n",
    "#ROC-AUC test surplus: 0.10131"
   ]
  },
  {
   "cell_type": "code",
   "execution_count": null,
   "id": "47547934-ed4b-40eb-8649-ecb9afb79b54",
   "metadata": {},
   "outputs": [],
   "source": []
  }
 ],
 "metadata": {
  "kernelspec": {
   "display_name": "Python 3 (ipykernel)",
   "language": "python",
   "name": "python3"
  },
  "language_info": {
   "codemirror_mode": {
    "name": "ipython",
    "version": 3
   },
   "file_extension": ".py",
   "mimetype": "text/x-python",
   "name": "python",
   "nbconvert_exporter": "python",
   "pygments_lexer": "ipython3",
   "version": "3.12.6"
  }
 },
 "nbformat": 4,
 "nbformat_minor": 5
}
