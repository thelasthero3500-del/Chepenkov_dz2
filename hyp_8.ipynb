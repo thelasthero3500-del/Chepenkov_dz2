{
 "cells": [
  {
   "cell_type": "code",
   "execution_count": 1,
   "id": "78899445-7e74-46a5-aee4-99be1b5f69d3",
   "metadata": {},
   "outputs": [],
   "source": [
    "from sklearn.linear_model import LogisticRegression\n",
    "from preprocessor import Preprocessor\n",
    "from evaluator import ModelEvaluator\n",
    "import pandas as pd\n",
    "import numpy as np"
   ]
  },
  {
   "cell_type": "code",
   "execution_count": 2,
   "id": "092332f2-1a1b-4f4f-b272-c668c9e40b27",
   "metadata": {},
   "outputs": [
    {
     "data": {
      "text/plain": [
       "'\\nwoe обработка категориальных фичей\\n'"
      ]
     },
     "execution_count": 2,
     "metadata": {},
     "output_type": "execute_result"
    }
   ],
   "source": [
    "'''\n",
    "woe обработка категориальных фичей\n",
    "'''"
   ]
  },
  {
   "cell_type": "code",
   "execution_count": 3,
   "id": "c2ee0bb6-b65f-4b53-8397-bdfcadaf0bf7",
   "metadata": {},
   "outputs": [],
   "source": [
    "df_train = pd.read_csv(\"C:/Users/Роман/Chepenkov_dz2/application_train.csv\")\n",
    "df_test = pd.read_csv(\"C:/Users/Роман/Chepenkov_dz2/application_test.csv\")"
   ]
  },
  {
   "cell_type": "code",
   "execution_count": 4,
   "id": "e7f38ea8-a091-4c09-90d2-742d3f5bdfe2",
   "metadata": {},
   "outputs": [],
   "source": [
    "WOE_MAPPING = {}\n",
    "\n",
    "def hypothesis_8(df):\n",
    "    \n",
    "    min_samples=100\n",
    "    alpha=0.5\n",
    "    TARGET_SERIES = df_train['TARGET']\n",
    "    global WOE_MAPPING\n",
    "    \n",
    "    df = df.copy()\n",
    "    cat_cols = df.select_dtypes(include=['object', 'category']).columns.tolist()\n",
    "    \n",
    "    # Режим обучения (когда установлена целевая переменная)\n",
    "    if TARGET_SERIES is not None and len(WOE_MAPPING) == 0:\n",
    "        for col in cat_cols:\n",
    "            # Объединяем данные для анализа\n",
    "            temp_df = pd.DataFrame({col: df[col], 'target': TARGET_SERIES})\n",
    "            \n",
    "            # Вычисляем WOE\n",
    "            freq_table = pd.crosstab(temp_df[col], temp_df['target'], margins=True)\n",
    "            freq_table['non_event'] = freq_table[0] + alpha\n",
    "            freq_table['event'] = freq_table[1] + alpha\n",
    "            freq_table['distr_non_event'] = freq_table['non_event'] / freq_table.at['All', 'non_event']\n",
    "            freq_table['distr_event'] = freq_table['event'] / freq_table.at['All', 'event']\n",
    "            freq_table['woe'] = np.log(freq_table['distr_non_event'] / freq_table['distr_event'])\n",
    "            \n",
    "            # Сохраняем mapping\n",
    "            WOE_MAPPING[col] = freq_table['woe'].to_dict()\n",
    "            del WOE_MAPPING[col]['All']\n",
    "            \n",
    "            # Применяем к данным\n",
    "            df[col] = df[col].map(WOE_MAPPING[col]).fillna(freq_table.at['All', 'woe'])\n",
    "    \n",
    "    # Режим применения на тесте\n",
    "    elif len(WOE_MAPPING) > 0:\n",
    "        for col in cat_cols:\n",
    "            if col in WOE_MAPPING:\n",
    "                df[col] = df[col].map(WOE_MAPPING[col])\n",
    "                # Заполняем новые категории средним WOE\n",
    "                if df[col].isna().any():\n",
    "                    overall_woe = np.mean(list(WOE_MAPPING[col].values()))\n",
    "                    df[col] = df[col].fillna(overall_woe)\n",
    "    \n",
    "    return df"
   ]
  },
  {
   "cell_type": "code",
   "execution_count": 5,
   "id": "f64eeed9-0735-474a-a4c4-c01827f1a6aa",
   "metadata": {},
   "outputs": [],
   "source": [
    "preprocessor = Preprocessor(custom_steps=[hypothesis_8])\n",
    "\n",
    "X_train_processed = preprocessor.transform(df_train.drop(columns=['TARGET', 'SK_ID_CURR']))\n",
    "\n",
    "X_test_processed = preprocessor.transform(df_test.drop(columns=['SK_ID_CURR']))"
   ]
  },
  {
   "cell_type": "code",
   "execution_count": 6,
   "id": "29bc708e-c77a-470c-abf5-707d99489c6e",
   "metadata": {},
   "outputs": [
    {
     "name": "stderr",
     "output_type": "stream",
     "text": [
      "C:\\Users\\Роман\\AppData\\Local\\Programs\\Python\\Python312\\Lib\\site-packages\\sklearn\\linear_model\\_logistic.py:473: ConvergenceWarning: lbfgs failed to converge after 100 iteration(s) (status=1):\n",
      "STOP: TOTAL NO. OF ITERATIONS REACHED LIMIT\n",
      "\n",
      "Increase the number of iterations to improve the convergence (max_iter=100).\n",
      "You might also want to scale the data as shown in:\n",
      "    https://scikit-learn.org/stable/modules/preprocessing.html\n",
      "Please also refer to the documentation for alternative solver options:\n",
      "    https://scikit-learn.org/stable/modules/linear_model.html#logistic-regression\n",
      "  n_iter_i = _check_optimize_result(\n"
     ]
    },
    {
     "name": "stdout",
     "output_type": "stream",
     "text": [
      "ROC-AUC train: 0.61968\n"
     ]
    }
   ],
   "source": [
    "evaluator = ModelEvaluator(LogisticRegression(max_iter=100))\n",
    "\n",
    "roc_auc = evaluator.evaluate(X_train_processed, df_train['TARGET'])\n",
    "print(f\"ROC-AUC train: {roc_auc:.5f}\")\n",
    "\n",
    "evaluator.save_test_predictions(\n",
    "    X_test=X_test_processed,\n",
    "    ids=df_test['SK_ID_CURR'],\n",
    "    filename='test_predictions_hyp_8.csv'\n",
    ")\n",
    "#ROC-AUC train: 0.61968\n",
    "\n",
    "#ROC-AUC test: 0.60998\n",
    "#ROC-AUC test baseline: 0.61204\n",
    "#ROC-AUC test surplus: -0.00206"
   ]
  },
  {
   "cell_type": "code",
   "execution_count": null,
   "id": "632ffbef-49d0-44ba-9e2e-89332f795216",
   "metadata": {},
   "outputs": [],
   "source": []
  }
 ],
 "metadata": {
  "kernelspec": {
   "display_name": "Python 3 (ipykernel)",
   "language": "python",
   "name": "python3"
  },
  "language_info": {
   "codemirror_mode": {
    "name": "ipython",
    "version": 3
   },
   "file_extension": ".py",
   "mimetype": "text/x-python",
   "name": "python",
   "nbconvert_exporter": "python",
   "pygments_lexer": "ipython3",
   "version": "3.12.6"
  }
 },
 "nbformat": 4,
 "nbformat_minor": 5
}
