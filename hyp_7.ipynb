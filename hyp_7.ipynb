{
 "cells": [
  {
   "cell_type": "code",
   "execution_count": 1,
   "id": "ae632c61-2ba0-42e0-8edd-fd1381ef925c",
   "metadata": {},
   "outputs": [],
   "source": [
    "from sklearn.preprocessing import PolynomialFeatures\n",
    "from sklearn.linear_model import LogisticRegression\n",
    "from sklearn.preprocessing import LabelEncoder\n",
    "from preprocessor import Preprocessor\n",
    "from evaluator import ModelEvaluator\n",
    "import pandas as pd"
   ]
  },
  {
   "cell_type": "code",
   "execution_count": 2,
   "id": "cb5ae2ef-f088-49a4-b27a-c76b8ce5eb61",
   "metadata": {},
   "outputs": [
    {
     "data": {
      "text/plain": [
       "'\\nИзготовим полиномиальные фичи из топ 20 фичей по корреляции с таргетом, но не более 200 штук\\n'"
      ]
     },
     "execution_count": 2,
     "metadata": {},
     "output_type": "execute_result"
    }
   ],
   "source": [
    "'''\n",
    "Изготовим полиномиальные фичи из топ 20 фичей по корреляции с таргетом, но не более 200 штук\n",
    "'''"
   ]
  },
  {
   "cell_type": "code",
   "execution_count": 3,
   "id": "d3db6cb0-6122-4512-b201-93b5e9fb5158",
   "metadata": {},
   "outputs": [],
   "source": [
    "df_train = pd.read_csv(\"C:/Users/Роман/Chepenkov_dz2/application_train.csv\")\n",
    "df_test = pd.read_csv(\"C:/Users/Роман/Chepenkov_dz2/application_test.csv\")"
   ]
  },
  {
   "cell_type": "code",
   "execution_count": 6,
   "id": "cdc11946-ff9b-4b42-b1db-bc1ef069d579",
   "metadata": {},
   "outputs": [],
   "source": [
    "# Глобальное состояние\n",
    "POLY_FEATURES = {\n",
    "    'columns': None,\n",
    "    'numeric_cols': None\n",
    "}\n",
    "\n",
    "def hypothesis_7(df):\n",
    "    global POLY_FEATURES\n",
    "\n",
    "    train_target = df_train['TARGET']\n",
    "    \n",
    "    df = df.copy()\n",
    "    numeric_cols = df.select_dtypes(include=['number']).columns.tolist()\n",
    "    \n",
    "    if POLY_FEATURES['columns'] is None:\n",
    "        # Тренировочный режим\n",
    "        if len(numeric_cols) > 20:\n",
    "            corr = df[numeric_cols].corrwith(train_target).abs()\n",
    "            numeric_cols = corr.nlargest(20).index.tolist()\n",
    "        \n",
    "        poly = PolynomialFeatures(degree=2, interaction_only=True, include_bias=False)\n",
    "        features = poly.fit_transform(df[numeric_cols])\n",
    "        cols = poly.get_feature_names_out(numeric_cols)[:1000]\n",
    "        \n",
    "        POLY_FEATURES = {\n",
    "            'columns': cols,\n",
    "            'numeric_cols': numeric_cols\n",
    "        }\n",
    "        \n",
    "        poly_df = pd.DataFrame(features[:, :1000], columns=cols, index=df.index)\n",
    "    else:\n",
    "        # Тестовый режим\n",
    "        poly = PolynomialFeatures(degree=2, interaction_only=True, include_bias=False)\n",
    "        poly.fit(df[POLY_FEATURES['numeric_cols']])\n",
    "        features = poly.transform(df[POLY_FEATURES['numeric_cols']])\n",
    "        \n",
    "        poly_df = pd.DataFrame(\n",
    "            data=features[:, :len(POLY_FEATURES['columns'])], \n",
    "            columns=POLY_FEATURES['columns'],\n",
    "            index=df.index\n",
    "        )\n",
    "    \n",
    "    return pd.concat([df, poly_df], axis=1)"
   ]
  },
  {
   "cell_type": "code",
   "execution_count": 7,
   "id": "f70c480a-d4ca-482a-8501-10e3aa354c07",
   "metadata": {},
   "outputs": [],
   "source": [
    "preprocessor = Preprocessor(custom_steps=[hypothesis_7])\n",
    "\n",
    "X_train_processed = preprocessor.transform(df_train.drop(columns=['TARGET', 'SK_ID_CURR']))\n",
    "num_cols = X_train_processed.select_dtypes(include='number').columns\n",
    "X_train_processed = X_train_processed[num_cols]\n",
    "\n",
    "X_test_processed = preprocessor.transform(df_test.drop(columns=['SK_ID_CURR']))\n",
    "X_test_processed = X_test_processed[num_cols]"
   ]
  },
  {
   "cell_type": "code",
   "execution_count": 8,
   "id": "9938c3e3-7910-45dc-a6b8-9e984a80dda2",
   "metadata": {},
   "outputs": [
    {
     "name": "stderr",
     "output_type": "stream",
     "text": [
      "C:\\Users\\Роман\\AppData\\Local\\Programs\\Python\\Python312\\Lib\\site-packages\\sklearn\\linear_model\\_logistic.py:473: ConvergenceWarning: lbfgs failed to converge after 100 iteration(s) (status=1):\n",
      "STOP: TOTAL NO. OF ITERATIONS REACHED LIMIT\n",
      "\n",
      "Increase the number of iterations to improve the convergence (max_iter=100).\n",
      "You might also want to scale the data as shown in:\n",
      "    https://scikit-learn.org/stable/modules/preprocessing.html\n",
      "Please also refer to the documentation for alternative solver options:\n",
      "    https://scikit-learn.org/stable/modules/linear_model.html#logistic-regression\n",
      "  n_iter_i = _check_optimize_result(\n"
     ]
    },
    {
     "name": "stdout",
     "output_type": "stream",
     "text": [
      "ROC-AUC train: 0.60054\n"
     ]
    }
   ],
   "source": [
    "evaluator = ModelEvaluator(LogisticRegression(max_iter=100))\n",
    "roc_auc = evaluator.evaluate(X_train_processed, df_train['TARGET'])\n",
    "print(f\"ROC-AUC train: {roc_auc:.5f}\")\n",
    "\n",
    "evaluator.save_test_predictions(\n",
    "    X_test=X_test_processed,\n",
    "    ids=df_test['SK_ID_CURR'],\n",
    "    filename='test_predictions_hyp_7.csv'\n",
    ")\n",
    "#ROC-AUC train: 0.60054\n",
    "\n",
    "#ROC-AUC test: 0.59334\n",
    "#ROC-AUC test baseline: 0.61204\n",
    "#ROC-AUC test surplus: -0,0187"
   ]
  },
  {
   "cell_type": "code",
   "execution_count": null,
   "id": "5eab7f4a-bf7c-4212-a908-e970a7209420",
   "metadata": {},
   "outputs": [],
   "source": []
  }
 ],
 "metadata": {
  "kernelspec": {
   "display_name": "Python 3 (ipykernel)",
   "language": "python",
   "name": "python3"
  },
  "language_info": {
   "codemirror_mode": {
    "name": "ipython",
    "version": 3
   },
   "file_extension": ".py",
   "mimetype": "text/x-python",
   "name": "python",
   "nbconvert_exporter": "python",
   "pygments_lexer": "ipython3",
   "version": "3.12.6"
  }
 },
 "nbformat": 4,
 "nbformat_minor": 5
}
