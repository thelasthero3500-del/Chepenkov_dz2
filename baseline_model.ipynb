{
 "cells": [
  {
   "cell_type": "code",
   "execution_count": 1,
   "id": "1c6f14e0-ca4b-4a03-b74c-42858804c0f0",
   "metadata": {},
   "outputs": [],
   "source": [
    "from sklearn.linear_model import LogisticRegression\n",
    "from preprocessor import Preprocessor\n",
    "from evaluator import ModelEvaluator\n",
    "import pandas as pd\n"
   ]
  },
  {
   "cell_type": "code",
   "execution_count": 2,
   "id": "fcbebda2-3bf6-46a1-9574-4894a4dccd35",
   "metadata": {},
   "outputs": [
    {
     "data": {
      "text/plain": [
       "'\\nБейзлайн использует ванильный логрег на числовых фичах, предобработка- замена нан на медиану\\n'"
      ]
     },
     "execution_count": 2,
     "metadata": {},
     "output_type": "execute_result"
    }
   ],
   "source": [
    "'''\n",
    "Бейзлайн использует ванильный логрег на числовых фичах, предобработка- замена нан на медиану и убрать дубликаты\n",
    "'''"
   ]
  },
  {
   "cell_type": "code",
   "execution_count": 3,
   "id": "d9bf89d5-ba57-46a8-887f-23bb5fe83e25",
   "metadata": {},
   "outputs": [],
   "source": [
    "df_train = pd.read_csv(\"C:/Users/Роман/Chepenkov_dz2/application_train.csv\")\n",
    "df_test = pd.read_csv(\"C:/Users/Роман/Chepenkov_dz2/application_test.csv\")"
   ]
  },
  {
   "cell_type": "code",
   "execution_count": 4,
   "id": "acdaeb3f-8f36-4c7a-98e7-863bc454d0f8",
   "metadata": {},
   "outputs": [],
   "source": [
    "preprocessor = Preprocessor()\n",
    "X_train_processed = preprocessor.transform(df_train.drop(columns=['TARGET', 'SK_ID_CURR']))\n",
    "num_cols = X_train_processed.select_dtypes(include='number').columns\n",
    "X_train_processed = X_train_processed[num_cols]\n",
    "\n",
    "X_test_processed = preprocessor.transform(df_test.drop(columns=['SK_ID_CURR']))\n",
    "X_test_processed = X_test_processed[num_cols]"
   ]
  },
  {
   "cell_type": "code",
   "execution_count": 5,
   "id": "f7385f43-a191-4f30-9aa0-5979ddee8ad1",
   "metadata": {},
   "outputs": [
    {
     "name": "stderr",
     "output_type": "stream",
     "text": [
      "C:\\Users\\Роман\\AppData\\Local\\Programs\\Python\\Python312\\Lib\\site-packages\\sklearn\\linear_model\\_logistic.py:473: ConvergenceWarning: lbfgs failed to converge after 100 iteration(s) (status=1):\n",
      "STOP: TOTAL NO. OF ITERATIONS REACHED LIMIT\n",
      "\n",
      "Increase the number of iterations to improve the convergence (max_iter=100).\n",
      "You might also want to scale the data as shown in:\n",
      "    https://scikit-learn.org/stable/modules/preprocessing.html\n",
      "Please also refer to the documentation for alternative solver options:\n",
      "    https://scikit-learn.org/stable/modules/linear_model.html#logistic-regression\n",
      "  n_iter_i = _check_optimize_result(\n"
     ]
    },
    {
     "name": "stdout",
     "output_type": "stream",
     "text": [
      "ROC-AUC train: 0.62118\n"
     ]
    }
   ],
   "source": [
    "evaluator = ModelEvaluator(LogisticRegression(max_iter=100))\n",
    "roc_auc = evaluator.evaluate(X_train_processed, df_train['TARGET'])\n",
    "print(f\"ROC-AUC train: {roc_auc:.5f}\")\n",
    "\n",
    "evaluator.save_test_predictions(\n",
    "    X_test=X_test_processed,\n",
    "    ids=df_test['SK_ID_CURR'],\n",
    "    filename='test_predictions_baseline.csv'\n",
    ")\n",
    "#ROC-AUC train baseline: 0.62118\n",
    "#ROC-AUC test baseline: 0.61204"
   ]
  }
 ],
 "metadata": {
  "kernelspec": {
   "display_name": "Python 3 (ipykernel)",
   "language": "python",
   "name": "python3"
  },
  "language_info": {
   "codemirror_mode": {
    "name": "ipython",
    "version": 3
   },
   "file_extension": ".py",
   "mimetype": "text/x-python",
   "name": "python",
   "nbconvert_exporter": "python",
   "pygments_lexer": "ipython3",
   "version": "3.12.6"
  }
 },
 "nbformat": 4,
 "nbformat_minor": 5
}
