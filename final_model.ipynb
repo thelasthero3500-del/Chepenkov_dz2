{
 "cells": [
  {
   "cell_type": "code",
   "execution_count": 1,
   "id": "855723a2-9a12-4bb1-95b6-85156aec0dba",
   "metadata": {},
   "outputs": [],
   "source": [
    "from catboost import CatBoostClassifier\n",
    "from sklearn.metrics import roc_auc_score\n",
    "from sklearn.preprocessing import PolynomialFeatures\n",
    "from preprocessor import Preprocessor\n",
    "from evaluator import ModelEvaluator\n",
    "from sklearn.impute import SimpleImputer\n",
    "from sklearn.preprocessing import StandardScaler\n",
    "import pandas as pd\n",
    "import numpy as np"
   ]
  },
  {
   "cell_type": "code",
   "execution_count": 2,
   "id": "2beb0bcb-75a0-4fd6-83ce-8f1e1b3e9fc7",
   "metadata": {},
   "outputs": [
    {
     "data": {
      "text/plain": [
       "'\\nНа основе сравнения гипотез выбрали наилучший набор среди взаимно неконфликтных: гипотезы 2,3,4,10\\n'"
      ]
     },
     "execution_count": 2,
     "metadata": {},
     "output_type": "execute_result"
    }
   ],
   "source": [
    "'''\n",
    "На основе сравнения гипотез выбрали наилучший набор среди взаимно неконфликтных: гипотезы 3,4,7,8,10\n",
    "'''"
   ]
  },
  {
   "cell_type": "code",
   "execution_count": 3,
   "id": "4377a0eb-a41f-415d-b5e1-3f57d6bfede2",
   "metadata": {},
   "outputs": [],
   "source": [
    "df_train = pd.read_csv(\"C:/Users/Роман/Chepenkov_dz2/application_train.csv\")\n",
    "df_test = pd.read_csv(\"C:/Users/Роман/Chepenkov_dz2/application_test.csv\")"
   ]
  },
  {
   "cell_type": "code",
   "execution_count": 4,
   "id": "1a81fa75-0c25-40c3-afee-eb1e2325c463",
   "metadata": {},
   "outputs": [],
   "source": [
    "def hypothesis_2(df):\n",
    "    df_encoded = df.copy()\n",
    "    cat_cols = df.select_dtypes(include=['object', 'string']).columns\n",
    "    \n",
    "    train_target = df_train['TARGET']  # global\n",
    "    \n",
    "    for col in cat_cols:\n",
    "        # Используем глобальный train_target для группировки\n",
    "        encoding_map = train_target.groupby(df[col]).mean().to_dict()\n",
    "        df_encoded[col] = df[col].map(encoding_map)\n",
    "    \n",
    "    return df_encoded"
   ]
  },
  {
   "cell_type": "code",
   "execution_count": 5,
   "id": "05a26f65-5c5a-4fec-a3c7-98465f4e57b8",
   "metadata": {},
   "outputs": [],
   "source": [
    "def hypothesis_3(df):\n",
    "   \n",
    "    df = df.copy()\n",
    "    \n",
    "    num_cols = df.select_dtypes(include=['float64', 'int64']).columns\n",
    "    \n",
    "    for col in num_cols:\n",
    "        if col in df.columns:\n",
    "            min_val = df[col].min()\n",
    "            shift = 1 - min_val if min_val <= 0 else 0\n",
    "            df[col] = np.log1p(df[col] + shift)\n",
    "    \n",
    "    return df"
   ]
  },
  {
   "cell_type": "code",
   "execution_count": 6,
   "id": "8aa1909f-ac4a-4c10-b097-4e2ec7c3d3be",
   "metadata": {},
   "outputs": [],
   "source": [
    "def hypothesis_4(df):\n",
    "   \n",
    "    df = df.copy()\n",
    "    num_cols = df.select_dtypes(include=['float64', 'int64']).columns\n",
    "    \n",
    "    index = df.index\n",
    "    columns = df.columns\n",
    "    \n",
    "    scaler = StandardScaler()\n",
    "    df[num_cols] = scaler.fit_transform(df[num_cols]) \n",
    "    \n",
    "    return df "
   ]
  },
  {
   "cell_type": "code",
   "execution_count": 7,
   "id": "f48a73ad-5a19-4575-aaef-08e7a112eee6",
   "metadata": {},
   "outputs": [],
   "source": [
    "# Глобальное состояние\n",
    "POLY_FEATURES = {\n",
    "    'columns': None,\n",
    "    'numeric_cols': None\n",
    "}\n",
    "\n",
    "def hypothesis_7(df):\n",
    "    global POLY_FEATURES\n",
    "\n",
    "    train_target = df_train['TARGET']\n",
    "    \n",
    "    df = df.copy()\n",
    "    numeric_cols = df.select_dtypes(include=['number']).columns.tolist()\n",
    "    \n",
    "    if POLY_FEATURES['columns'] is None:\n",
    "        # Тренировочный режим\n",
    "        if len(numeric_cols) > 20:\n",
    "            corr = df[numeric_cols].corrwith(train_target).abs()\n",
    "            numeric_cols = corr.nlargest(20).index.tolist()\n",
    "        \n",
    "        poly = PolynomialFeatures(degree=2, interaction_only=True, include_bias=False)\n",
    "        features = poly.fit_transform(df[numeric_cols])\n",
    "        cols = poly.get_feature_names_out(numeric_cols)[:1000]\n",
    "        \n",
    "        POLY_FEATURES = {\n",
    "            'columns': cols,\n",
    "            'numeric_cols': numeric_cols\n",
    "        }\n",
    "        \n",
    "        poly_df = pd.DataFrame(features[:, :1000], columns=cols, index=df.index)\n",
    "    else:\n",
    "        # Тестовый режим\n",
    "        poly = PolynomialFeatures(degree=2, interaction_only=True, include_bias=False)\n",
    "        poly.fit(df[POLY_FEATURES['numeric_cols']])\n",
    "        features = poly.transform(df[POLY_FEATURES['numeric_cols']])\n",
    "        \n",
    "        poly_df = pd.DataFrame(\n",
    "            data=features[:, :len(POLY_FEATURES['columns'])], \n",
    "            columns=POLY_FEATURES['columns'],\n",
    "            index=df.index\n",
    "        )\n",
    "    \n",
    "    return pd.concat([df, poly_df], axis=1)"
   ]
  },
  {
   "cell_type": "code",
   "execution_count": 8,
   "id": "d68f70db-3036-417c-8a10-6d141df8b91e",
   "metadata": {},
   "outputs": [],
   "source": [
    "WOE_MAPPING = {}\n",
    "\n",
    "def hypothesis_8(df):\n",
    "    \n",
    "    min_samples=100\n",
    "    alpha=0.5\n",
    "    TARGET_SERIES = df_train['TARGET']\n",
    "    global WOE_MAPPING\n",
    "    \n",
    "    df = df.copy()\n",
    "    cat_cols = df.select_dtypes(include=['object', 'category']).columns.tolist()\n",
    "    \n",
    "    # Режим обучения (когда установлена целевая переменная)\n",
    "    if TARGET_SERIES is not None and len(WOE_MAPPING) == 0:\n",
    "        for col in cat_cols:\n",
    "            # Объединяем данные для анализа\n",
    "            temp_df = pd.DataFrame({col: df[col], 'target': TARGET_SERIES})\n",
    "            \n",
    "            # Вычисляем WOE\n",
    "            freq_table = pd.crosstab(temp_df[col], temp_df['target'], margins=True)\n",
    "            freq_table['non_event'] = freq_table[0] + alpha\n",
    "            freq_table['event'] = freq_table[1] + alpha\n",
    "            freq_table['distr_non_event'] = freq_table['non_event'] / freq_table.at['All', 'non_event']\n",
    "            freq_table['distr_event'] = freq_table['event'] / freq_table.at['All', 'event']\n",
    "            freq_table['woe'] = np.log(freq_table['distr_non_event'] / freq_table['distr_event'])\n",
    "            \n",
    "            # Сохраняем mapping\n",
    "            WOE_MAPPING[col] = freq_table['woe'].to_dict()\n",
    "            del WOE_MAPPING[col]['All']\n",
    "            \n",
    "            # Применяем к данным\n",
    "            df[col] = df[col].map(WOE_MAPPING[col]).fillna(freq_table.at['All', 'woe'])\n",
    "    \n",
    "    # Режим применения на тесте\n",
    "    elif len(WOE_MAPPING) > 0:\n",
    "        for col in cat_cols:\n",
    "            if col in WOE_MAPPING:\n",
    "                df[col] = df[col].map(WOE_MAPPING[col])\n",
    "                # Заполняем новые категории средним WOE\n",
    "                if df[col].isna().any():\n",
    "                    overall_woe = np.mean(list(WOE_MAPPING[col].values()))\n",
    "                    df[col] = df[col].fillna(overall_woe)\n",
    "    \n",
    "    return df"
   ]
  },
  {
   "cell_type": "code",
   "execution_count": 9,
   "id": "538464eb-7f70-44d7-a194-2ca9859e85ce",
   "metadata": {},
   "outputs": [],
   "source": [
    "def hypothesis_10(df):\n",
    "    return df #заглушка на всякий"
   ]
  },
  {
   "cell_type": "code",
   "execution_count": 10,
   "id": "ea2aca9d-0620-42e2-a424-e99dc861ce85",
   "metadata": {},
   "outputs": [],
   "source": [
    "preprocessor = Preprocessor(custom_steps=[hypothesis_8, hypothesis_3, hypothesis_4,hypothesis_7, hypothesis_10])\n",
    "\n",
    "X_train_processed = preprocessor.transform(df_train.drop(columns=['TARGET', 'SK_ID_CURR']))\n",
    "\n",
    "X_test_processed = preprocessor.transform(df_test.drop(columns=['SK_ID_CURR']))\n",
    "\n",
    "imputer = SimpleImputer(strategy='mean')\n",
    "X_train_processed = pd.DataFrame(\n",
    "    imputer.fit_transform(X_train_processed),\n",
    "    columns=X_train_processed.columns,\n",
    "    index=X_train_processed.index\n",
    ")\n",
    "\n",
    "X_test_processed = pd.DataFrame(\n",
    "    imputer.transform(X_test_processed),\n",
    "    columns=X_test_processed.columns,\n",
    "    index=X_test_processed.index)"
   ]
  },
  {
   "cell_type": "code",
   "execution_count": 19,
   "id": "9c7613a8-2538-493c-a76a-b95848bc4f52",
   "metadata": {},
   "outputs": [],
   "source": [
    "X_train_processed = X_train_processed.loc[:, ~X_train_processed.columns.duplicated()]\n",
    "X_test_processed = X_test_processed.loc[:, ~X_test_processed.columns.duplicated()]\n"
   ]
  },
  {
   "cell_type": "code",
   "execution_count": 20,
   "id": "7f31d51c-9283-47bc-a3ae-260177404dde",
   "metadata": {},
   "outputs": [
    {
     "name": "stdout",
     "output_type": "stream",
     "text": [
      "0:\ttotal: 476ms\tremaining: 7m 55s\n",
      "100:\ttotal: 27.2s\tremaining: 4m 1s\n",
      "200:\ttotal: 51s\tremaining: 3m 22s\n",
      "300:\ttotal: 1m 13s\tremaining: 2m 51s\n",
      "400:\ttotal: 1m 36s\tremaining: 2m 24s\n",
      "500:\ttotal: 1m 58s\tremaining: 1m 57s\n",
      "600:\ttotal: 2m 19s\tremaining: 1m 32s\n",
      "700:\ttotal: 2m 41s\tremaining: 1m 8s\n",
      "800:\ttotal: 3m 3s\tremaining: 45.5s\n",
      "900:\ttotal: 3m 24s\tremaining: 22.5s\n",
      "999:\ttotal: 3m 46s\tremaining: 0us\n",
      "ROC-AUC train: 0.79534\n"
     ]
    }
   ],
   "source": [
    "cat_features = [i for i in range(len(X_train_processed.columns)) \n",
    "               if X_train_processed.dtypes.iloc[i] == 'object']\n",
    "\n",
    "model = CatBoostClassifier(\n",
    "    iterations=1000,\n",
    "    learning_rate=0.05,\n",
    "    depth=6,\n",
    "    eval_metric='AUC',\n",
    "    cat_features=cat_features,\n",
    "    random_seed=42,\n",
    "    verbose=100\n",
    ")\n",
    "\n",
    "evaluator = ModelEvaluator(model)\n",
    "\n",
    "roc_auc = evaluator.evaluate(X_train_processed, df_train['TARGET'])\n",
    "print(f\"ROC-AUC train: {roc_auc:.5f}\")\n",
    "\n",
    "evaluator.save_test_predictions(\n",
    "    X_test=X_test_processed,\n",
    "    ids=df_test['SK_ID_CURR'],\n",
    "    filename='test_predictions_final.csv')\n",
    "#ROC-AUC train: 0.79534\n",
    "\n",
    "#ROC-AUC test: 0.73864\n",
    "#ROC-AUC test baseline: 0.61204\n",
    "#ROC-AUC test surplus: 0.1266"
   ]
  },
  {
   "cell_type": "code",
   "execution_count": null,
   "id": "3dc73a8e-a59a-4a00-b017-3a46f8b942ed",
   "metadata": {},
   "outputs": [],
   "source": []
  }
 ],
 "metadata": {
  "kernelspec": {
   "display_name": "Python 3 (ipykernel)",
   "language": "python",
   "name": "python3"
  },
  "language_info": {
   "codemirror_mode": {
    "name": "ipython",
    "version": 3
   },
   "file_extension": ".py",
   "mimetype": "text/x-python",
   "name": "python",
   "nbconvert_exporter": "python",
   "pygments_lexer": "ipython3",
   "version": "3.12.6"
  }
 },
 "nbformat": 4,
 "nbformat_minor": 5
}
