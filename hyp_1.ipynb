{
 "cells": [
  {
   "cell_type": "code",
   "execution_count": 1,
   "id": "9b9ab406-0a8e-49f6-b43b-80c7676d6f81",
   "metadata": {},
   "outputs": [],
   "source": [
    "from sklearn.linear_model import LogisticRegression\n",
    "from sklearn.preprocessing import LabelEncoder\n",
    "from preprocessor import Preprocessor\n",
    "from evaluator import ModelEvaluator\n",
    "import pandas as pd"
   ]
  },
  {
   "cell_type": "code",
   "execution_count": 2,
   "id": "46cc76a6-067d-453b-a279-2ebc27e7a6de",
   "metadata": {},
   "outputs": [
    {
     "data": {
      "text/plain": [
       "\"\\nРабота с категориальными фичами. Удаляем 'XNA' из гендера, 'Unknown' из семейного статуса, 'Maternity leave' из NAME_INCOME_TYPE (нет в тесте).\\nЗаменяем образование и семейный статус на порядковые номера в порядке доли дефолта по этим фичам (на основе eda).\\nБинарные категориальные фичи превращаем в булевы переменные, остальные в дамми.\\n\""
      ]
     },
     "execution_count": 2,
     "metadata": {},
     "output_type": "execute_result"
    }
   ],
   "source": [
    "'''\n",
    "Работа с категориальными фичами. Удаляем 'XNA' из гендера, 'Unknown' из семейного статуса, 'Maternity leave' из NAME_INCOME_TYPE (нет в тесте).\n",
    "Заменяем образование и семейный статус на порядковые номера в порядке доли дефолта по этим фичам (на основе eda).\n",
    "Бинарные категориальные фичи превращаем в булевы переменные, остальные в дамми.\n",
    "'''"
   ]
  },
  {
   "cell_type": "code",
   "execution_count": 4,
   "id": "bb404228-e361-45ca-9897-ad7fb8772529",
   "metadata": {},
   "outputs": [],
   "source": [
    "df_train = pd.read_csv(\"C:/Users/Роман/Chepenkov_dz2/application_train.csv\")\n",
    "df_test = pd.read_csv(\"C:/Users/Роман/Chepenkov_dz2/application_test.csv\")"
   ]
  },
  {
   "cell_type": "code",
   "execution_count": 5,
   "id": "6c686292-d398-4c35-bd11-84d3becbd714",
   "metadata": {},
   "outputs": [],
   "source": [
    "def hypothesis_1(df):\n",
    "    df_train = df.copy()\n",
    "    cat_cols = df.select_dtypes(include=['object', 'string']).columns\n",
    "    num_cols = df.select_dtypes(include=['float64', 'int64']).columns\n",
    "    df = df[df[\"CODE_GENDER\"] != 'XNA']\n",
    "    df = df[df[\"NAME_FAMILY_STATUS\"] != 'Unknown']\n",
    "    df = df[df['NAME_INCOME_TYPE'] != 'Maternity leave']\n",
    "\n",
    "    education_order = ['Lower secondary','Secondary / secondary special','Incomplete higher', 'Higher education', 'Academic degree']\n",
    "    df[\"NAME_EDUCATION_TYPE\"] = df[\"NAME_EDUCATION_TYPE\"].map(\n",
    "    {v: i for i, v in enumerate(education_order)}\n",
    "    )\n",
    "\n",
    "    family_order = ['Civil marriage','Single / not married','Separated', 'Married', 'Widow']\n",
    "    df[\"NAME_FAMILY_STATUS\"] = df[\"NAME_FAMILY_STATUS\"].map(\n",
    "    {v: i for i, v in enumerate(family_order)}\n",
    "    )\n",
    "\n",
    "    for col in df[cat_cols]:\n",
    "        if df[col].nunique() == 2:\n",
    "            le = LabelEncoder()\n",
    "            df[col] = le.fit_transform(df[col])\n",
    "        \n",
    "    df = pd.get_dummies(df, columns=[col for col in cat_cols if df[col].nunique() > 2],dtype=int)\n",
    "    \n",
    "    return df"
   ]
  },
  {
   "cell_type": "code",
   "execution_count": 6,
   "id": "7f7b0cdb-048e-4827-af48-ece8d40f9c6b",
   "metadata": {},
   "outputs": [],
   "source": [
    "preprocessor = Preprocessor(custom_steps=[hypothesis_1])"
   ]
  },
  {
   "cell_type": "code",
   "execution_count": 7,
   "id": "a1a68576-7eed-4385-b5bc-9e9cc8b70f9c",
   "metadata": {},
   "outputs": [],
   "source": [
    "df_train = df_train[df_train[\"CODE_GENDER\"] != 'XNA']\n",
    "df_train = df_train[df_train[\"NAME_FAMILY_STATUS\"] != 'Unknown']\n",
    "df_train = df_train[df_train['NAME_INCOME_TYPE'] != 'Maternity leave']"
   ]
  },
  {
   "cell_type": "code",
   "execution_count": 8,
   "id": "19628bfd-9d9e-41c7-a7b5-a56857c58a55",
   "metadata": {},
   "outputs": [],
   "source": [
    "X_train_processed = preprocessor.transform(df_train.drop(columns=['TARGET', 'SK_ID_CURR']))\n",
    "num_cols = X_train_processed.select_dtypes(include='number').columns\n",
    "X_train_processed = X_train_processed[num_cols]\n",
    "\n",
    "X_test_processed = preprocessor.transform(df_test.drop(columns=['SK_ID_CURR']))\n",
    "X_test_processed = X_test_processed[num_cols]"
   ]
  },
  {
   "cell_type": "code",
   "execution_count": 11,
   "id": "8833e299-880d-4a78-87ce-f2cda9363dae",
   "metadata": {},
   "outputs": [
    {
     "name": "stderr",
     "output_type": "stream",
     "text": [
      "C:\\Users\\Роман\\AppData\\Local\\Programs\\Python\\Python312\\Lib\\site-packages\\sklearn\\linear_model\\_logistic.py:473: ConvergenceWarning: lbfgs failed to converge after 100 iteration(s) (status=1):\n",
      "STOP: TOTAL NO. OF ITERATIONS REACHED LIMIT\n",
      "\n",
      "Increase the number of iterations to improve the convergence (max_iter=100).\n",
      "You might also want to scale the data as shown in:\n",
      "    https://scikit-learn.org/stable/modules/preprocessing.html\n",
      "Please also refer to the documentation for alternative solver options:\n",
      "    https://scikit-learn.org/stable/modules/linear_model.html#logistic-regression\n",
      "  n_iter_i = _check_optimize_result(\n"
     ]
    },
    {
     "name": "stdout",
     "output_type": "stream",
     "text": [
      "ROC-AUC train: 0.61943\n"
     ]
    }
   ],
   "source": [
    "evaluator = ModelEvaluator(LogisticRegression(max_iter=100))\n",
    "\n",
    "roc_auc = evaluator.evaluate(X_train_processed, df_train['TARGET'])\n",
    "print(f\"ROC-AUC train: {roc_auc:.5f}\")\n",
    "\n",
    "evaluator.save_test_predictions(\n",
    "    X_test=X_test_processed,\n",
    "    ids=df_test['SK_ID_CURR'],\n",
    "    filename='test_predictions_hyp_1.csv'\n",
    ")\n",
    "#ROC-AUC train: 0.61943\n",
    "\n",
    "#ROC-AUC test: 0.60910\n",
    "#ROC-AUC test baseline: 0.61204\n",
    "#ROC-AUC test surplus: -0,00294\n"
   ]
  },
  {
   "cell_type": "code",
   "execution_count": null,
   "id": "f10ab0cc-c657-49a6-8dba-050681c7a8da",
   "metadata": {},
   "outputs": [],
   "source": []
  }
 ],
 "metadata": {
  "kernelspec": {
   "display_name": "Python 3 (ipykernel)",
   "language": "python",
   "name": "python3"
  },
  "language_info": {
   "codemirror_mode": {
    "name": "ipython",
    "version": 3
   },
   "file_extension": ".py",
   "mimetype": "text/x-python",
   "name": "python",
   "nbconvert_exporter": "python",
   "pygments_lexer": "ipython3",
   "version": "3.12.6"
  }
 },
 "nbformat": 4,
 "nbformat_minor": 5
}
